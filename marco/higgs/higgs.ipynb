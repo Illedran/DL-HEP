{
 "cells": [
  {
   "cell_type": "code",
   "execution_count": 1,
   "metadata": {
    "collapsed": false
   },
   "outputs": [],
   "source": [
    "import pandas as pd\n",
    "import numpy as np\n",
    "import matplotlib.pyplot as plt\n",
    "%matplotlib notebook"
   ]
  },
  {
   "cell_type": "code",
   "execution_count": 23,
   "metadata": {
    "collapsed": true
   },
   "outputs": [],
   "source": [
    "dataAtlas = pd.read_csv('data/atlas-higgs-challenge-2014-v2.csv',index_col=0)"
   ]
  },
  {
   "cell_type": "code",
   "execution_count": 24,
   "metadata": {
    "collapsed": false
   },
   "outputs": [],
   "source": [
    "dataAtlas.replace(-999.0,np.nan,inplace=True)\n",
    "dataAtlas.drop(['Weight','KaggleSet','KaggleWeight'],axis=1,inplace=True)\n",
    "labels=dataAtlas['Label'].replace(['s','b'],[1,0],inplace=True)"
   ]
  },
  {
   "cell_type": "code",
   "execution_count": 4,
   "metadata": {
    "collapsed": false
   },
   "outputs": [
    {
     "name": "stdout",
     "output_type": "stream",
     "text": [
      "538678 279560 259118\n"
     ]
    }
   ],
   "source": [
    "ntrain_samples=len(dataAtlas[dataAtlas['Label']==0])-len(dataAtlas[dataAtlas['Label']==1])\n",
    "print(len(dataAtlas[dataAtlas['Label']==0]),len(dataAtlas[dataAtlas['Label']==1]),ntrain_samples)"
   ]
  },
  {
   "cell_type": "code",
   "execution_count": 35,
   "metadata": {
    "collapsed": false
   },
   "outputs": [],
   "source": [
    "train_data=dataAtlas[dataAtlas['Label']==0].sample(ntrain_samples).drop('Label',axis=1)"
   ]
  },
  {
   "cell_type": "code",
   "execution_count": 36,
   "metadata": {
    "collapsed": false
   },
   "outputs": [],
   "source": [
    "test_data=dataAtlas.ix[list(set(dataAtlas.index)-set(train_data.index))].drop('Label',axis=1)"
   ]
  },
  {
   "cell_type": "code",
   "execution_count": 38,
   "metadata": {
    "collapsed": true
   },
   "outputs": [],
   "source": [
    "num_null_classes=set(dataAtlas.isnull().sum(axis=1).values)"
   ]
  },
  {
   "cell_type": "code",
   "execution_count": 61,
   "metadata": {
    "collapsed": false
   },
   "outputs": [
    {
     "name": "stdout",
     "output_type": "stream",
     "text": [
      "0 118935 23787 104639\n",
      "1 12545 2509 1866\n",
      "7 140124 28024 87953\n",
      "8 22556 4511 2249\n",
      "10 164206 32841 77779\n",
      "11 80312 16062 5074\n"
     ]
    }
   ],
   "source": [
    "data_b=dataAtlas[dataAtlas['Label']==0]\n",
    "data_s=dataAtlas[dataAtlas['Label']==1]\n",
    "for el in num_null_classes:\n",
    "    print(el,len(data_b[data_b.isnull().sum(axis=1)==el]),int(len(data_b[data_b.isnull().sum(axis=1)==el])*0.2),len(data_s[data_s.isnull().sum(axis=1)==el]))"
   ]
  },
  {
   "cell_type": "code",
   "execution_count": null,
   "metadata": {
    "collapsed": true
   },
   "outputs": [],
   "source": []
  }
 ],
 "metadata": {
  "kernelspec": {
   "display_name": "Python 3",
   "language": "python",
   "name": "python3"
  },
  "language_info": {
   "codemirror_mode": {
    "name": "ipython",
    "version": 3
   },
   "file_extension": ".py",
   "mimetype": "text/x-python",
   "name": "python",
   "nbconvert_exporter": "python",
   "pygments_lexer": "ipython3",
   "version": "3.5.2+"
  }
 },
 "nbformat": 4,
 "nbformat_minor": 1
}
